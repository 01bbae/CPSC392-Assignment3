{
 "cells": [
  {
   "cell_type": "markdown",
   "metadata": {},
   "source": [
    "# HW3\n",
    "\n",
    "## GENERAL INSTRUCTIONS:\n",
    "\n",
    "- **CLEARLY** mark where you are answering each question (all written questions must be answered in Markdown cells, NOT as comments in code cells)\n",
    "- Show all code necessary for the analysis, but remove superfluous code\n",
    "\n",
    "---\n",
    "\n",
    "Using the dataset [HW4_1](https://raw.githubusercontent.com/cmparlettpelleriti/CPSC392ParlettPelleriti/master/Data/HW4_1.csv),\n",
    "\n",
    "- **a) (15 points)** Build a Linear Regression Model to predict `y` from all the `X` variables (`X1` to `X50`).\n",
    "    - Use TTS with a 90/10 split (since data is large)\n",
    "    - z-score your predictors\n",
    "    - record the MSE/R2 for both training/test sets\n",
    "    \n",
    "    \n",
    "    \n",
    "- **b) (10 points)** Thouroughly discuss the performance of the model built in part a. (*IN A MARKDOWN CELL*)\n",
    "\n",
    "\n",
    "\n",
    "- **c) (35 points)** Build a NEW Linear Regression Model, but using PCA:\n",
    "    - first, Use TTS with a 90/10 split (since data is large)\n",
    "    - z-score your predictors\n",
    "    - next, apply PCA to the *training set*.\n",
    "    - make a scree plot\n",
    "    - (15 of 35 points) **Thouroughly discuss** what the scree plot tells you about the `X` variables and their relationships to each other. (*IN A MARKDOWN CELL*)\n",
    "    - Figure out how many PCs you need to keep to retain 90% of the original variance.\n",
    "    - Use the fitted PCA model to create those component scores for both *training* and *test* set. DO NOT refit the PCA model on the test set.\n",
    "    - fit your model using these components and record the MSE/R2 for both training/test sets\n",
    "    \n",
    "    \n",
    "- **d) (20 points)** Thouroughly discuss how the performance of the model built in part c differs from the model in part a. In your answer, discuss how PCA works, and how that may relate to the change in performance you observed. Also discuss why z-scoring before applying PCA is important.(*IN A MARKDOWN CELL*)\n",
    "\n",
    "\n",
    "\n",
    "- **e) (20 points)** Thouroughly discuss whether *for this data set* you would choose to use the full data, or the Principle Components selected in part c, what are the advantages/disadvantages? (*IN A MARKDOWN CELL*)"
   ]
  },
  {
   "cell_type": "code",
   "execution_count": 37,
   "metadata": {},
   "outputs": [],
   "source": [
    "# import necessary packages\n",
    "import pandas as pd\n",
    "import numpy as np\n",
    "from sklearn.linear_model import LinearRegression\n",
    "from sklearn.preprocessing import StandardScaler\n",
    "from sklearn.model_selection import train_test_split\n",
    "from sklearn.decomposition import PCA\n",
    "from plotnine import ggplot\n",
    "from sklearn.metrics import mean_squared_error\n",
    "from sklearn.metrics import r2_score\n",
    "# from plotnine import *"
   ]
  },
  {
   "cell_type": "code",
   "execution_count": 16,
   "metadata": {},
   "outputs": [],
   "source": [
    "# a\n",
    "data = pd.read_csv('https://raw.githubusercontent.com/cmparlettpelleriti/CPSC392ParlettPelleriti/master/Data/HW4_1.csv')\n",
    "pred = data.columns.values.tolist()\n",
    "pred.remove('y')\n",
    "# print(pred)\n",
    "X=data.loc[:,pred]\n",
    "y=data.loc[:,'y']"
   ]
  },
  {
   "cell_type": "code",
   "execution_count": 50,
   "metadata": {},
   "outputs": [],
   "source": [
    "X_train, X_test, y_train, y_test = train_test_split(X,y,test_size=0.1)"
   ]
  },
  {
   "cell_type": "code",
   "execution_count": 51,
   "metadata": {},
   "outputs": [],
   "source": [
    "z = StandardScaler()\n",
    "zX_train = z.fit_transform(X_train)\n",
    "zX_test = z.transform(X_test)"
   ]
  },
  {
   "cell_type": "code",
   "execution_count": 52,
   "metadata": {},
   "outputs": [
    {
     "name": "stdout",
     "output_type": "stream",
     "text": [
      "mse train:  3.7843146551691444\n",
      "r2 train:  0.9991132700324521\n",
      "mse test:  5.24195509757292\n",
      "r2 test:  0.9984002653595625\n"
     ]
    }
   ],
   "source": [
    "lr = LinearRegression()\n",
    "lr.fit(zX_train,y_train)\n",
    "print('mse train: ',mean_squared_error(y_train,lr.predict(zX_train)))\n",
    "print('r2 train: ',r2_score(y_train,lr.predict(zX_train)))\n",
    "print('mse test: ',mean_squared_error(y_test,lr.predict(zX_test)))\n",
    "print('r2 test: ',r2_score(y_test,lr.predict(zX_test)))"
   ]
  },
  {
   "cell_type": "markdown",
   "metadata": {},
   "source": [
    "b) The performance is pretty good for the model fit on all the predictors there is a relatively small mse and r2 score tells us that there is a strong positive correlation with the data points"
   ]
  },
  {
   "cell_type": "code",
   "execution_count": 53,
   "metadata": {},
   "outputs": [
    {
     "data": {
      "text/html": [
       "<div>\n",
       "<style scoped>\n",
       "    .dataframe tbody tr th:only-of-type {\n",
       "        vertical-align: middle;\n",
       "    }\n",
       "\n",
       "    .dataframe tbody tr th {\n",
       "        vertical-align: top;\n",
       "    }\n",
       "\n",
       "    .dataframe thead th {\n",
       "        text-align: right;\n",
       "    }\n",
       "</style>\n",
       "<table border=\"1\" class=\"dataframe\">\n",
       "  <thead>\n",
       "    <tr style=\"text-align: right;\">\n",
       "      <th></th>\n",
       "      <th>cum_var</th>\n",
       "      <th>components</th>\n",
       "    </tr>\n",
       "  </thead>\n",
       "  <tbody>\n",
       "    <tr>\n",
       "      <th>0</th>\n",
       "      <td>0.424056</td>\n",
       "      <td>1</td>\n",
       "    </tr>\n",
       "    <tr>\n",
       "      <th>1</th>\n",
       "      <td>0.819788</td>\n",
       "      <td>2</td>\n",
       "    </tr>\n",
       "    <tr>\n",
       "      <th>2</th>\n",
       "      <td>0.827388</td>\n",
       "      <td>3</td>\n",
       "    </tr>\n",
       "    <tr>\n",
       "      <th>3</th>\n",
       "      <td>0.833864</td>\n",
       "      <td>4</td>\n",
       "    </tr>\n",
       "    <tr>\n",
       "      <th>4</th>\n",
       "      <td>0.839986</td>\n",
       "      <td>5</td>\n",
       "    </tr>\n",
       "  </tbody>\n",
       "</table>\n",
       "</div>"
      ],
      "text/plain": [
       "    cum_var  components\n",
       "0  0.424056           1\n",
       "1  0.819788           2\n",
       "2  0.827388           3\n",
       "3  0.833864           4\n",
       "4  0.839986           5"
      ]
     },
     "execution_count": 53,
     "metadata": {},
     "output_type": "execute_result"
    }
   ],
   "source": [
    "# c\n",
    "X_train, X_test, y_train, y_test = train_test_split(X,y,test_size=0.1)\n",
    "z = StandardScaler()\n",
    "zX_train = z.fit_transform(X_train)\n",
    "zX_test = z.transform(X_test)\n",
    "pca = PCA()\n",
    "pca.fit(zX_train)\n",
    "scree = pd.DataFrame({'cum_var': pca.explained_variance_ratio_.cumsum(), 'components':range(1,51)})\n",
    "scree.head()"
   ]
  },
  {
   "cell_type": "code",
   "execution_count": 54,
   "metadata": {},
   "outputs": [
    {
     "data": {
      "image/png": "[encoded data removed]",
      "text/plain": [
       "<Figure size 640x480 with 1 Axes>"
      ]
     },
     "metadata": {
      "needs_background": "light"
     },
     "output_type": "display_data"
    },
    {
     "data": {
      "text/plain": [
       "<ggplot: (395840058)>"
      ]
     },
     "execution_count": 54,
     "metadata": {},
     "output_type": "execute_result"
    }
   ],
   "source": [
    "(ggplot(scree, aes(x = \"components\", y = \"cum_var\")) + geom_line() + geom_point()+theme_minimal()+geom_hline(yintercept=.9))"
   ]
  },
  {
   "cell_type": "code",
   "execution_count": 55,
   "metadata": {},
   "outputs": [
    {
     "name": "stdout",
     "output_type": "stream",
     "text": [
      "mse train:  4610.198147731979\n",
      "r2 train:  -0.09679377185493188\n",
      "mse test:  4371.387204035114\n",
      "r2 test:  -0.16501176861176003\n"
     ]
    }
   ],
   "source": [
    "Xtrain_pcomps15 = pca.transform(zX_train)\n",
    "Xtrain_pcomps15 = Xtrain_pcomps15[:,0:15]\n",
    "Xtest_pcomps15 = pca.transform(zX_test)\n",
    "Xtest_pcomps15 = Xtest_pcomps15[:,0:15]\n",
    "\n",
    "lr.fit(X_pcomps15, y_train)\n",
    "print('mse train: ', mean_squared_error(y_train, lr.predict(Xtrain_pcomps15)))\n",
    "print('r2 train: ', r2_score(y_train, lr.predict(Xtrain_pcomps15)))\n",
    "print('mse test: ', mean_squared_error(y_test, lr.predict(Xtest_pcomps15)))\n",
    "print('r2 test: ', r2_score(y_test, lr.predict(Xtest_pcomps15)))"
   ]
  },
  {
   "cell_type": "markdown",
   "metadata": {},
   "source": [
    "c) In the scree plot shows the variability in the different predictors. When the dimensions with high variability it represents that the variable has a high impact on the trends of a data set. The x axis is the number of principle components and the y shows the percentage of variance that the principle component is responsible for."
   ]
  },
  {
   "cell_type": "markdown",
   "metadata": {},
   "source": [
    "d) PCA works by taking a dimensionality and finding the ones that affect the variance the most and using those and getting rid of the other dimensions to reduce the storage and computation it takes to train a model accurately\n",
    "The model in part c only has 15 dimensions compared to part a which has 50 dimensions\n",
    "The mse is worse and could be due to the dimensions removed, but the r2 score still remains relatively unchanged because the same pattern is still present in the dimensions we kept. Z scoring is important because PCA relies on variance and the variance has to be normalized so that different dimensions don't have wildly different scales of variance."
   ]
  },
  {
   "cell_type": "markdown",
   "metadata": {},
   "source": [
    "e) I think in this case I would use the model in part a without PCA because it does not affect computational time that much but in cases with thousands of dimensions I would use PCA. Since time isn't affected, we can keep the high accuracy in part a rather than part c. The advantage is saving computational time and space. The disadvantage is that some accuracy and trends in the model maybe lost with the reduction in dimensionality."
   ]
  }
 ],
 "metadata": {
  "hide_input": false,
  "kernelspec": {
   "display_name": "Python 3 (ipykernel)",
   "language": "python",
   "name": "python3"
  },
  "language_info": {
   "codemirror_mode": {
    "name": "ipython",
    "version": 3
   },
   "file_extension": ".py",
   "mimetype": "text/x-python",
   "name": "python",
   "nbconvert_exporter": "python",
   "pygments_lexer": "ipython3",
   "version": "3.9.7"
  },
  "toc": {
   "base_numbering": 1,
   "nav_menu": {},
   "number_sections": true,
   "sideBar": true,
   "skip_h1_title": false,
   "title_cell": "Table of Contents",
   "title_sidebar": "Contents",
   "toc_cell": false,
   "toc_position": {},
   "toc_section_display": true,
   "toc_window_display": false
  }
 },
 "nbformat": 4,
 "nbformat_minor": 4
}
